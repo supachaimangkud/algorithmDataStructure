{
 "cells": [
  {
   "attachments": {},
   "cell_type": "markdown",
   "metadata": {},
   "source": [
    "# Complexity Theory"
   ]
  },
  {
   "attachments": {},
   "cell_type": "markdown",
   "metadata": {},
   "source": [
    "This notebook will demonstrate a step-by-step understanding of time and space complexity of algorithms. In particular, we will focus on the searching and sorting algorithms discussed - the theory should be transferrable when looking at other code formats."
   ]
  },
  {
   "attachments": {},
   "cell_type": "markdown",
   "metadata": {},
   "source": [
    "## Intuition (Visual)"
   ]
  },
  {
   "attachments": {},
   "cell_type": "markdown",
   "metadata": {},
   "source": [
    "<div>\n",
    "<img src=\"https://miro.medium.com/v2/resize:fit:1400/1*5ZLci3SuR0zM_QlZOADv8Q.jpeg\" width=\"700\"/>\n",
    "</div>"
   ]
  },
  {
   "attachments": {},
   "cell_type": "markdown",
   "metadata": {},
   "source": [
    "## Intuition (Theoretical)"
   ]
  },
  {
   "attachments": {},
   "cell_type": "markdown",
   "metadata": {},
   "source": [
    "**Time Complexity**:\n",
    "\n",
    "The time complexity of an algorithm specifies the total time taken by an algorithm to execute as a function of the input’s length. \n",
    "\n",
    "**Space Complexity**:\n",
    "\n",
    "The space complexity of an algorithm specifies the total amount of space or memory taken by an algorithm to execute as a function of the input’s length.\n",
    "\n",
    "*Both the space and time complexities depend on various factors, such as underlying hardware, OS, CPU, processor, etc. However, when we analyze the performance of the algorithm, none of these factors are taken into consideration. The only thing we care about is the possible number of operations that occurs for a given length of input from an algorithm.*\n",
    "\n"
   ]
  },
  {
   "attachments": {},
   "cell_type": "markdown",
   "metadata": {},
   "source": [
    "## Asymptotic Analysis"
   ]
  },
  {
   "attachments": {},
   "cell_type": "markdown",
   "metadata": {},
   "source": [
    "Asymptotic notations are the mathematical notations used to describe the running time of an algorithm when the input tends towards a particular value or a limiting value. Depending on the nature of the input, algorithms have worst, average and best case complexities. \n",
    "The three asymptotic notations that we will look at are: \n",
    "- $O$ (Big O-notation)\n",
    "- $\\Omega$ (Omega-notation)\n",
    "- $\\Theta$ (Theta-notation)"
   ]
  },
  {
   "attachments": {},
   "cell_type": "markdown",
   "metadata": {},
   "source": [
    "### Big-O Notation"
   ]
  },
  {
   "attachments": {},
   "cell_type": "markdown",
   "metadata": {},
   "source": [
    "<div>\n",
    "<img src=\"https://cdn.programiz.com/sites/tutorial2program/files/big0.png\" width=\"500\"/>\n",
    "</div>"
   ]
  },
  {
   "attachments": {},
   "cell_type": "markdown",
   "metadata": {},
   "source": [
    "Mathematically, we use Big-O notation if the following is true:\n",
    "\n",
    "$$O\\left(g\\left(n\\right)\\right) = { f\\left(n\\right): \\exists c, n_{0} > 0 \\ \\text{such that} \\ 0 \\le f\\left(n\\right) \\le cg\\left(n\\right); \\forall n ≥ n_{0} }$$"
   ]
  },
  {
   "attachments": {},
   "cell_type": "markdown",
   "metadata": {},
   "source": [
    "## Examples"
   ]
  },
  {
   "attachments": {},
   "cell_type": "markdown",
   "metadata": {},
   "source": [
    "### Linear Search"
   ]
  },
  {
   "attachments": {},
   "cell_type": "markdown",
   "metadata": {},
   "source": [
    "```\n",
    "for i in range(len(self.original_list)):\n",
    "    print(f\"- Iteration {i}...\")\n",
    "    # Check existence\n",
    "    if self.original_list[i] == self.value:\n",
    "        # Return the index of the value (NOTE: You can also return True, if you do not care about the position.)\n",
    "        print(f\"The value is in position: {i} \\n\")\n",
    "        print(\"Linear Search complete...\")\n",
    "        # NOTE: The non-optimal search would go to the end of the list and not break early if the value is found!\n",
    "        return\n",
    "# If value does not exist (NOTE: You can also return False.)\n",
    "print(\"Value does not exist in list! \\n\")\n",
    "print(\"Linear Search complete...\")\n",
    "return\n",
    "```"
   ]
  },
  {
   "attachments": {},
   "cell_type": "markdown",
   "metadata": {},
   "source": [
    "- Variable assignment/operator checks are $O\\left(1\\right)$ i.e. constant as the length of any input increases.\n",
    "- The only part which requires arithmetic operations is within the for loop. \n",
    "- Given that variable $i$ must go from $0$ to length of the list, the worst case scenario is that $i$ reaches the value equal to the length of the list and thus the process is $O\\left(n\\right)$.\n",
    "- The best case scenario is that the value we seek is the first element of the list, hence the process if $O\\left(1\\right)$."
   ]
  },
  {
   "attachments": {},
   "cell_type": "markdown",
   "metadata": {},
   "source": [
    "## Final Remarks"
   ]
  },
  {
   "attachments": {},
   "cell_type": "markdown",
   "metadata": {},
   "source": [
    "Thank you for reading this notebook. Note that there are other implementations of binary search (which I would advise you to take a look at to see any differences of similarities with this version).\n",
    "If there are any mistakes or things that need more clarity, feel free to respond and I will be happy to reply 😊.\n",
    "\n",
    "© *PolyNath 2023*"
   ]
  }
 ],
 "metadata": {
  "kernelspec": {
   "display_name": "ucl-sl-2022",
   "language": "python",
   "name": "ucl-sl-2022"
  },
  "language_info": {
   "codemirror_mode": {
    "name": "ipython",
    "version": 3
   },
   "file_extension": ".py",
   "mimetype": "text/x-python",
   "name": "python",
   "nbconvert_exporter": "python",
   "pygments_lexer": "ipython3",
   "version": "3.9.15"
  },
  "orig_nbformat": 4
 },
 "nbformat": 4,
 "nbformat_minor": 2
}
