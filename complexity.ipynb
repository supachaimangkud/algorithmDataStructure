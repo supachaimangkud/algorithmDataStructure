{
 "cells": [
  {
   "attachments": {},
   "cell_type": "markdown",
   "metadata": {},
   "source": [
    "# Complexity Theory"
   ]
  },
  {
   "attachments": {},
   "cell_type": "markdown",
   "metadata": {},
   "source": [
    "This notebook will demonstrate a step-by-step understanding of time and space complexity of algorithms. In particular, we will focus on the searching and sorting algorithms discussed - the theory should be transferrable when looking at other code formats."
   ]
  },
  {
   "attachments": {},
   "cell_type": "markdown",
   "metadata": {},
   "source": [
    "## Intuition (Visual)"
   ]
  },
  {
   "attachments": {},
   "cell_type": "markdown",
   "metadata": {},
   "source": [
    "<div>\n",
    "<img src=\"https://miro.medium.com/v2/resize:fit:1400/1*5ZLci3SuR0zM_QlZOADv8Q.jpeg\" width=\"700\"/>\n",
    "<br>\n",
    "<img src=\"https://he-s3.s3.amazonaws.com/media/uploads/c950295.png\" width=\"700\"/>\n",
    "</div>"
   ]
  },
  {
   "attachments": {},
   "cell_type": "markdown",
   "metadata": {},
   "source": [
    "## Intuition (Theoretical)"
   ]
  },
  {
   "attachments": {},
   "cell_type": "markdown",
   "metadata": {},
   "source": [
    "**Time Complexity**:\n",
    "\n",
    "The time complexity of an algorithm specifies the total time taken by an algorithm to execute as a function of the input’s length. Here, we count the number of total steps/operations that have taken place in the algorithm. \n",
    "\n",
    "**Space Complexity**:\n",
    "\n",
    "The space complexity of an algorithm specifies the total amount of space or memory taken by an algorithm to execute as a function of the input’s length.\n",
    "\n",
    "*Both the space and time complexities depend on various factors, such as underlying hardware, OS, CPU, processor, etc. However, when we analyze the performance of the algorithm, none of these factors are taken into consideration. The only thing we care about is the possible number of operations that occurs for a given length of input from an algorithm.*\n",
    "\n"
   ]
  },
  {
   "attachments": {},
   "cell_type": "markdown",
   "metadata": {},
   "source": [
    "## Asymptotic Analysis"
   ]
  },
  {
   "attachments": {},
   "cell_type": "markdown",
   "metadata": {},
   "source": [
    "Asymptotic notations are the mathematical notations used to describe the running time of an algorithm when the input tends towards a particular value or a limiting value. Depending on the nature of the input, algorithms have worst, average and best case complexities. \n",
    "The three asymptotic notations that we will look at are: \n",
    "- $O$ (Big O-notation)\n",
    "- $\\Omega$ (Omega-notation)\n",
    "- $\\Theta$ (Theta-notation)"
   ]
  },
  {
   "attachments": {},
   "cell_type": "markdown",
   "metadata": {},
   "source": [
    "### Big-O Notation"
   ]
  },
  {
   "attachments": {},
   "cell_type": "markdown",
   "metadata": {},
   "source": [
    "<div>\n",
    "<img src=\"https://cdn.programiz.com/sites/tutorial2program/files/big0.png\" width=\"500\"/>\n",
    "</div>"
   ]
  },
  {
   "attachments": {},
   "cell_type": "markdown",
   "metadata": {},
   "source": [
    "Mathematically, we use Big-O notation if the following is true:\n",
    "\n",
    "$$O\\left(g\\left(n\\right)\\right) = { f\\left(n\\right): \\exists c, n_{0} > 0 \\ \\text{such that} \\ 0 \\le f\\left(n\\right) \\le cg\\left(n\\right); \\forall n ≥ n_{0} }$$"
   ]
  },
  {
   "attachments": {},
   "cell_type": "markdown",
   "metadata": {},
   "source": [
    "### Examples"
   ]
  },
  {
   "attachments": {},
   "cell_type": "markdown",
   "metadata": {},
   "source": [
    "Suppose $f\\left(n\\right)=n^{2}+n$. Then $f\\left(n\\right)=O\\left(n^{2}\\right)$. To prove this, let's aim to solve the inequality above (for a given $n_{0}$ and $c$):\n",
    "\n",
    "- To choose a $c$, note that $\\lim_{n\\to\\infty} \\frac{f\\left(n\\right)}{g\\left(n\\right)} = \\lim_{n\\to\\infty} \\frac{n^{2}+n}{n^{2}} = \\lim_{n\\to\\infty} 1+ \\frac{1}{n} = 1$. Hence, we can pick $c=2$.\n",
    "- Now evaluating $f\\left(n\\right) \\le c g\\left(n\\right) \\iff n^{2}+n \\le 2n^{2} \\iff n^{2}-n \\ge 0 \\iff n \\le 0 \\cup n \\ge 1$. Hence, we can pick $n_{0}=1$.\n",
    "\n",
    "This set of constants satifies the Big-O notation and thus $f\\left(n\\right)=O\\left(n^{2}\\right)$. We can see a graphical interpretation of this below (blue line is $2n^{2}$ and red line is $n^{2}+n$):"
   ]
  },
  {
   "attachments": {},
   "cell_type": "markdown",
   "metadata": {},
   "source": [
    "<div>\n",
    "<img src=\"big-o-complexity.png\" width=\"250\"/>\n",
    "</div>"
   ]
  },
  {
   "attachments": {},
   "cell_type": "markdown",
   "metadata": {},
   "source": [
    "The motivation for finding upper bounds to algorithms is so that we can then work to improve the algorithm by fine-tuning it. Suppose we have two algorithms with time complexity $O\\left(n\\right)$ and $O\\left(n^{2}\\right)$ (where $n$ is the length of the input). \n",
    "- If n=2, then $O\\left(n\\right)$ takes 2 seconds but $O\\left(n^{2}\\right)$ takes 4 seconds.\n",
    "- If n=20, then $O\\left(n\\right)$ takes 20 seconds but $O\\left(n^{2}\\right)$ takes 400 seconds.\n",
    "\n",
    "We can see the drastic increases in time, even though the input length has only changed by a small amount. This will force us to try find methods to improve the algorithm with $O\\left(n^{2}\\right)$ time complexity by reducing it."
   ]
  },
  {
   "attachments": {},
   "cell_type": "markdown",
   "metadata": {},
   "source": [
    "## Examples"
   ]
  },
  {
   "attachments": {},
   "cell_type": "markdown",
   "metadata": {},
   "source": [
    "### Linear Search"
   ]
  },
  {
   "attachments": {},
   "cell_type": "markdown",
   "metadata": {},
   "source": [
    "```\n",
    "def execute(self):\n",
    "    \"\"\"This performs linear search.\"\"\"\n",
    "    # Check list compatibility\n",
    "    self.check_list()\n",
    "    # Loop through entire list to check if value exists\n",
    "    print(\"Initiate Linear Search... \\n\")\n",
    "    for i in range(len(self.original_list)):\n",
    "        print(f\"- Iteration {i}...\")\n",
    "        # Check existence\n",
    "        if self.original_list[i] == self.value:\n",
    "            # Return the index of the value (NOTE: You can also return True, if you do not care about the position.)\n",
    "            print(f\"The value is in position: {i} \\n\")\n",
    "            print(\"Linear Search complete...\")\n",
    "            # NOTE: The non-optimal search would go to the end of the list and not break early if the value is found!\n",
    "            return\n",
    "    # If value does not exist (NOTE: You can also return False.)\n",
    "    print(\"Value does not exist in list!\")\n",
    "    print(\"Linear Search complete...\")\n",
    "    return\n",
    "```"
   ]
  },
  {
   "attachments": {},
   "cell_type": "markdown",
   "metadata": {},
   "source": [
    "1. Variable assignment/operator checks are $O\\left(1\\right)$ i.e. constant as the length of any input increases.\n",
    "2. The only part which requires arithmetic operations/steps is within the for loop (which is known as a condition). \n",
    "3. The variable $i$ goes through $n$ iterations. In each iteration, the worst case scenario is where the *if* statement is not executed. Thus, if we include indexing as a time step, there is a total of $2$ time steps per iteration. \n",
    "4. Hence, the total time steps i.e. $f\\left(n\\right) = 2n = O\\left(n\n",
    "\\right)$. This can be proven mathematically like above!\n",
    "5. The best case scenario is that the value we seek is the first element of the list, hence the process is $O\\left(1\\right)$.\n",
    "\n"
   ]
  },
  {
   "attachments": {},
   "cell_type": "markdown",
   "metadata": {},
   "source": [
    "### Binary Search"
   ]
  },
  {
   "attachments": {},
   "cell_type": "markdown",
   "metadata": {},
   "source": [
    "```\n",
    "def execute(self):\n",
    "    \"\"\"This performs binary search search.\"\"\"\n",
    "    # Check list compatibility\n",
    "    self.check_list()\n",
    "    # Set the two pointers (as index)\n",
    "    start_pointer = 0\n",
    "    end_pointer = len(self.original_list)-1\n",
    "    # If value of start pointer is greater than value of end pointer, the value we seek cannot exist (due to ordering)\n",
    "    while start_pointer <= end_pointer:\n",
    "        # Set the mid pointer\n",
    "        mid_pointer = (start_pointer + end_pointer) // 2\n",
    "        # If the value of the mid pointer is equal to the value we seek\n",
    "        if self.original_list[mid_pointer] == self.value:\n",
    "            print(f\"The value is in position: {mid_pointer}\")\n",
    "            return \n",
    "        # If the value of the mid pointer is greater than the value we seek\n",
    "        elif self.original_list[mid_pointer] > self.value:\n",
    "            # Move start pointer\n",
    "            end_pointer = mid_pointer - 1\n",
    "        # If the value of the mid pointer is less than the value we seek\n",
    "        else:\n",
    "            # Move end pointer\n",
    "            start_pointer = mid_pointer + 1\n",
    "    print(\"Value does not exist in list!\")\n",
    "    return\n",
    "```"
   ]
  },
  {
   "attachments": {},
   "cell_type": "markdown",
   "metadata": {},
   "source": [
    "1. At the start, we have 2 time steps (start_pointer and end_pointer assignments).\n",
    "2. The main time steps occur in the while loop (a condition). The issue here is that it is unclear for how long the while loop is executed for. To work this out, we must see what is happening to $n$ i.e. length of the list in each *iteration*. \n",
    "- When $n=1$ iteration, the length of the list is $n$.\n",
    "- When $n=2$ iteration, the length of the list is approximately $\\frac{n}{2}$ (if the value is not found) as we are looking at half of the list due to the middle pointer seperation.\n",
    "- Hence, after $k$ arbitrary iterations i.e. $n=k$, the length of the list is approximately $\\frac{n}{2^{k-1}}$.\n",
    "3. If we think about the worst case sceario, this is when the length of the list starts from $n$ and ends up being $1$ - this can occur if the value we are looking for is either: At the start, the end or not in the list.\n",
    "4. Thus, we must solve $\\frac{n}{2^{k-1}}=1 \\Rightarrow k = log_{2}\\left(n\\right)+1$.\n",
    "5. Now that we know roughly how many iterations occur, we must seek the time steps within each itaration - the worst case is that we have 4 steps each iteration (mid_pointer assignment, fails the if and else statement and then start_pointer assignment).\n",
    "6. Hence, the total time steps i.e. $f\\left(n\\right) = 2 + 4k = 2 + 4\\left(log_{2}\\left(n\\right)+1\\right) = 4log_{2}\\left(n\\right)+6 = O\\left(log\\left(n\\right)\\right)$. This can be proven mathematically like above!\n",
    "7. The best case scenario is that the value we seek is the middle element of the list, hence the process is $O\\left(1\\right)$."
   ]
  },
  {
   "attachments": {},
   "cell_type": "markdown",
   "metadata": {},
   "source": [
    "### Selection Sort"
   ]
  },
  {
   "attachments": {},
   "cell_type": "markdown",
   "metadata": {},
   "source": [
    "```\n",
    "def execute(self):\n",
    "    \"\"\"This performs selection sort.\"\"\"\n",
    "    # Check list compatibility\n",
    "    if self.check_list():\n",
    "        print(\"Returning original list:\")\n",
    "        return self.original_list\n",
    "    # Set iterable pointer\n",
    "    print(\"Initiate Selection Sort... \\n\")\n",
    "    for i in range(len(self.modify_list)):\n",
    "        print(f\"- Iteration {i}: {self.modify_list} \\n\")\n",
    "        # Set temporary index corresponding to minimum/maximum value\n",
    "        temp_index = i\n",
    "        # Loop through from left to right (of the list) to find the index of minimum/maximum value\n",
    "        for j in range(i+1, len(self.modify_list)):\n",
    "            # Check if values after the current iterable pointer are greater than/less than the value at minimum/maximum index (and update)\n",
    "            if eval(f\"{self.modify_list[j]} {self.type_} {self.modify_list[temp_index]}\"):\n",
    "                min_index = j\n",
    "        # If the index of the minimum/maximum value is not the same as the starting iterable pointer position, \n",
    "        if min_index != i:\n",
    "            self.modify_list[i], self.modify_list[min_index] = self.modify_list[min_index], self.modify_list[i]\n",
    "    print(\"Selection Sort complete...\")\n",
    "```"
   ]
  },
  {
   "attachments": {},
   "cell_type": "markdown",
   "metadata": {},
   "source": [
    "1. The main time steps occur in the first for loop (a condition).\n",
    "2. When $n=1$ iteration, the worst case scenario is that we have $3$ time steps (temp_index assignment, if condition and swap) and then we have a second for loop. In this second for loop, we have at worst, 2 time steps (if condition and then min_index assignment) i.e. $2\\left(n-1\\right)$ due to the loop indexing. Hence, overall, we have $2n+1$ time steps.\n",
    "3. When $n=2$ iteration, we have $2n-1$ time steps (due to the inner loop indexing now executing $\\left(n-2\\right)$ iterations).\n",
    "4. Thus, after $n$ iterations, the total time steps will the overall sum of $\\left(2n+1\\right) + \\left(2n-1\\right) + \\left(2n-3\\right) + \\cdots + 3$. This is equivalent to $$\\sum_{i=0}^{n-1} \\left[\\sum_{j=i+1}^{n-1} 2 \\right]+ 3 = \\sum_{i=0}^{n-1} 2n + \\left(1-2i\\right) = 2n^{2} + n - 2 \\frac{n\\left(n-1\\right)}{2} = n^{2}+n.$$\n",
    "5. Hence, the total time steps i.e. $f\\left(n\\right) = n^{2}+n = O\\left(n^{2}\\right)$. This can be proven mathematically like above!\n",
    "6. Alternatively, one can simply note that the outer for loop is $O\\left(n\\right)$ and the inner for loop is at worst (upper bounded) also $O\\left(n\\right)$ and thus the time complexity is the product of the complexities i.e. $f\\left(n\\right) = O\\left(n^{2}\\right)$.\n",
    "7. The best case scenario is equivalent to the worst case scenario as we must always iterate over the length of the entire list."
   ]
  },
  {
   "attachments": {},
   "cell_type": "markdown",
   "metadata": {},
   "source": [
    "## Final Remarks"
   ]
  },
  {
   "attachments": {},
   "cell_type": "markdown",
   "metadata": {},
   "source": [
    "Thank you for reading this notebook. Note that there are other implementations of binary search (which I would advise you to take a look at to see any differences of similarities with this version).\n",
    "If there are any mistakes or things that need more clarity, feel free to respond and I will be happy to reply 😊.\n",
    "\n",
    "© *PolyNath 2023*"
   ]
  }
 ],
 "metadata": {
  "kernelspec": {
   "display_name": "ucl-sl-2022",
   "language": "python",
   "name": "ucl-sl-2022"
  },
  "language_info": {
   "codemirror_mode": {
    "name": "ipython",
    "version": 3
   },
   "file_extension": ".py",
   "mimetype": "text/x-python",
   "name": "python",
   "nbconvert_exporter": "python",
   "pygments_lexer": "ipython3",
   "version": "3.9.15"
  },
  "orig_nbformat": 4
 },
 "nbformat": 4,
 "nbformat_minor": 2
}
